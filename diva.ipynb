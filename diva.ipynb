{
 "cells": [
  {
   "cell_type": "code",
   "execution_count": 11,
   "id": "295791aa",
   "metadata": {},
   "outputs": [],
   "source": [
    "import pandas as pd \n",
    "import numpy as np\n",
    "from bs4 import BeautifulSoup\n",
    "from selenium import webdriver\n",
    "from selenium.webdriver.chrome.options import Options\n",
    "from selenium.webdriver.common.by import By\n",
    "from selenium.webdriver.support.ui import WebDriverWait\n",
    "from selenium.webdriver.support import expected_conditions as EC\n",
    "import re\n",
    "from requests import get\n",
    "import requests\n",
    "import re\n",
    "import urllib\n",
    "import os\n",
    "import glob\n",
    "from tqdm import tqdm\n",
    "from datetime import datetime\n",
    "import time\n",
    "pd.set_option('display.max_colwidth', None)\n",
    "tqdm.pandas()\n",
    "import warnings\n",
    "warnings.filterwarnings('ignore')"
   ]
  },
  {
   "cell_type": "code",
   "execution_count": 2,
   "id": "14898811",
   "metadata": {},
   "outputs": [],
   "source": [
    "def get_funder2(pid):\n",
    "    \n",
    "    start_time = time.time()\n",
    "    \n",
    "    stopwords = ['Note','',' ','Funding agencies:','Funding Agencies:','Sponsored by',': ','Forskningsfinansiär', 'Funding Agency:']\n",
    "    stopwords = '|'.join(stopwords)\n",
    "    regex = re.compile(r'\\b('+stopwords+r')\\b', flags=re.IGNORECASE) \n",
    "    \n",
    "    fund_dict = {}\n",
    "        \n",
    "    for k in pid:\n",
    "        \n",
    "        url = 'https://oru.diva-portal.org/smash/record.jsf?dswid=-2429&pid=diva2%3A'+str(k)+'&c=1&searchType=SIMPLE&language=en&query='+str(k)+'&af=%5B%5D&aq=%5B%5B%5D%5D&aq2=%5B%5B%5D%5D&aqe=%5B%5D&noOfRows=50&sortOrder=author_sort_asc&sortOrder2=title_sort_asc&onlyFullText=false&sf=all'\n",
    "        page = get(url)\n",
    "        soup = BeautifulSoup(page.text, 'html.parser')\n",
    "        fund_name=[]\n",
    "        key = k\n",
    "        \n",
    "        t = ''\n",
    "        for i in range(0, len(soup.find_all('h5'))):\n",
    "            if(soup.find_all('h5')[i].text=='Note'):\n",
    "                t = soup.find_all('h5')[i].next_sibling\n",
    "        data = []\n",
    "        if(t != ''):\n",
    "            while(t.string != None):\n",
    "                if((t.string not in stopwords) & (len(t.string) < 300) & (t.string != None) & (t.string != '\\n')):\n",
    "                    data.append(t.string)\n",
    "                t = t.next_sibling\n",
    "        \n",
    "            fund_dict[str(key)] = data\n",
    "    \n",
    "    df = pd.DataFrame(list(fund_dict.values()), index=fund_dict.keys()).reset_index().rename(columns={'index':'pid'})\n",
    "    \n",
    "    print(\"--- %s seconds ---\" % (time.time() - start_time))\n",
    "    \n",
    "    return df"
   ]
  },
  {
   "cell_type": "code",
   "execution_count": 12,
   "id": "beff87d4",
   "metadata": {},
   "outputs": [],
   "source": [
    "def getHits():\n",
    "    # Set up headless browser\n",
    "    options = Options()\n",
    "    options.add_argument(\"--headless\")\n",
    "    options.add_argument(\"--no-sandbox\")\n",
    "    options.add_argument(\"--disable-dev-shm-usage\")\n",
    "    options.add_argument(\"--user-agent=Mozilla/5.0 (Windows NT 10.0; Win64; x64) AppleWebKit/537.36 (KHTML, like Gecko) Chrome/120.0.0.0 Safari/537.36\")\n",
    "    \n",
    "    try:\n",
    "        driver = webdriver.Chrome(options=options)\n",
    "        url = 'https://oru.diva-portal.org/smash/resultList.jsf?dswid=-5296&searchType=SUBJECT&language=en&onlyFullText=false&af=%5B%5D&aq=%5B%5B%7B%22categoryId%22%3A%2211649%22%7D%5D%5D'\n",
    "        \n",
    "        driver.get(url)\n",
    "        \n",
    "        # Wait for the pagination element to be visible\n",
    "        WebDriverWait(driver, 10).until(\n",
    "            EC.presence_of_element_located((By.CLASS_NAME, \"paginInformation\"))\n",
    "        )\n",
    "        \n",
    "        # Find the pagination information\n",
    "        pagination_info = driver.find_element(By.CLASS_NAME, \"paginInformation\").text\n",
    "        \n",
    "        # Extract the hit count\n",
    "        hits_match = re.search(r'of (\\d+)', pagination_info)\n",
    "        result = hits_match.group(1) if hits_match else pagination_info\n",
    "        \n",
    "        driver.quit()\n",
    "        return result\n",
    "        \n",
    "    except Exception as e:\n",
    "        print(f\"Error with Selenium: {e}\")\n",
    "        try:\n",
    "            driver.quit()\n",
    "        except:\n",
    "            pass\n",
    "        return None"
   ]
  },
  {
   "cell_type": "code",
   "execution_count": 13,
   "id": "283976ec",
   "metadata": {},
   "outputs": [
    {
     "name": "stdout",
     "output_type": "stream",
     "text": [
      "22654\n"
     ]
    }
   ],
   "source": [
    "print(getHits())\n"
   ]
  },
  {
   "cell_type": "code",
   "execution_count": 14,
   "id": "52abf68d",
   "metadata": {},
   "outputs": [],
   "source": [
    "def download_data(file_url, filename):\n",
    "    directory =\"./raw_data/\"\n",
    "    if not os.path.exists(directory):\n",
    "        os.makedirs(directory)\n",
    "    \n",
    "    linkToFile = file_url\n",
    "    localDestination = \"./raw_data/\"+filename\n",
    "    resultFilePath, responseHeaders = urllib.request.urlretrieve(linkToFile, localDestination)"
   ]
  },
  {
   "cell_type": "code",
   "execution_count": 15,
   "id": "117e4910",
   "metadata": {},
   "outputs": [
    {
     "name": "stdout",
     "output_type": "stream",
     "text": [
      "CPU times: user 806 ms, sys: 434 ms, total: 1.24 s\n",
      "Wall time: 2min 16s\n"
     ]
    }
   ],
   "source": [
    "%%time\n",
    "hits = getHits()\n",
    "#diva_url = \"https://oru.diva-portal.org/smash/export.jsf?format=csv&addFilename=true&aq=[[{%22categoryId%22:%2211649%22}]]&aqe=[]&aq2=[[]]&onlyFullText=false&noOfRows=\"+str(hits)+\"&sortOrder=title_sort_asc&sortOrder2=title_sort_asc&csvType=publication&fl=\"\n",
    "\n",
    "auth_df_cols = ['PID','AuthorityPid','DOI','FirstName','ISI','ISRN','LastName','LocalId','NBN','ORCID',\n",
    "                'OrganisationId','UncontrolledOrganisation','Position','PMID','ResearchGroup','Role',\n",
    "                'ScopusId']\n",
    "\n",
    "pubs_df_cols = ['PID','Abstract','ArchiveNumber','ArticleId','Name','City','Conference','ContentType',\n",
    "                'CreatedDate','Credits','DOI','DefenceDate','DefenceLanguage','DefencePlace',\n",
    "                'Edition','EndPage','Examiners','FullTextLink','Funder','HostPublication',\n",
    "                'HostPublicationAll','ISBN','ISBN_ELECTRONIC','ISBN_PRINT','ISI','ISRN',\n",
    "                'Issue','Journal','JournalEISSN','JournalISSN','Keywords','Language','LastUpdated',\n",
    "                'Urls','LocalId','NBN','Categories','Notes','NumberOfAuthors','PersonCount',\n",
    "                'Opponents','Pages','PartOfThesis','Patent','Programme','Projects','PublicationDate',\n",
    "                'PublicationStatus','PublicationType','Publisher','PMID','ResearchSubjects','ScopusId',\n",
    "                'SeriesTitle','SeriesEISSN','SeriesISSN','StartPage','Subject','Supervisors',\n",
    "                'ThesisLevel','Title','TypeOfContent','Uppsok','Volume','Year']\n",
    "\n",
    "\n",
    "onepub_url = '''https://oru.diva-portal.org/smash/export.jsf?format=csv&addFilename=true&aq=[[{\"categoryId\":\"11649\"},{\"mediaTypeCode\":\"\\\"text\\\"\"}]]&aqe=[]&aq2=[[{\"language\":\"eng\"},{\"publicationTypeCode\":[\"bookReview\",\"dissertation\",\"review\",\"comprehensiveDoctoralThesis\",\"article\",\"monographDoctoralThesis\",\"comprehensiveLicentiateThesis\",\"book\",\"monographLicentiateThesis\",\"chapter\",\"manuscript\",\"conferencePaper\",\"conferenceProceedings\"]}]]&onlyFullText=false&noOfRows='''+str(hits)+'''&sortOrder=title_sort_asc&sortOrder2=title_sort_asc&csvType=publication&fl=PID,Abstract,ArchiveNumber,ArticleId,Name,City,Conference,ContentType,CreatedDate,Credits,DOI,DefenceDate,DefenceLanguage,DefencePlace,Edition,EndPage,Examiners,FullTextLink,Funder,HostPublication,HostPublicationAll,ISBN,ISBN_ELECTRONIC,ISBN_PRINT,ISI,ISRN,Issue,Journal,JournalEISSN,JournalISSN,Keywords,Language,LastUpdated,Urls,LocalId,NBN,Categories,Notes,NumberOfAuthors,PersonCount,Opponents,Pages,PartOfThesis,Patent,Programme,Projects,PublicationDate,PublicationStatus,PublicationType,Publisher,PMID,ResearchSubjects,ScopusId,SeriesTitle,SeriesEISSN,SeriesISSN,StartPage,Subject,Supervisors,ThesisLevel,Title,TypeOfContent,Uppsok,Volume,Year'''\n",
    "authors_url = '''https://oru.diva-portal.org/smash/export.jsf?format=csv&addFilename=true&aq=[[{\"categoryId\":\"11649\"},{\"mediaTypeCode\":\"\\\"text\\\"\"}]]&aqe=[]&aq2=[[{\"language\":\"eng\"},{\"publicationTypeCode\":[\"bookReview\",\"dissertation\",\"review\",\"comprehensiveDoctoralThesis\",\"article\",\"monographDoctoralThesis\",\"comprehensiveLicentiateThesis\",\"book\",\"monographLicentiateThesis\",\"chapter\",\"manuscript\",\"conferencePaper\",\"conferenceProceedings\"]}]]&onlyFullText=false&noOfRows='''+str(hits)+'''&sortOrder=title_sort_asc&sortOrder2=title_sort_asc&csvType=person&fl=PID,AuthorityPid,DOI,FirstName,ISI,ISRN,LastName,LocalId,NBN,ORCID,OrganisationId,UncontrolledOrganisation,Position,PMID,ResearchGroup,Role,ScopusId'''\n",
    "\n",
    "\n",
    "if os.path.exists(\"./raw_data/\"+\"publications_\"+str(hits)+\".csv\") == False:\n",
    "    download_data(onepub_url, \"publications_\"+str(hits)+\".csv\")\n",
    "    pubs_df = pd.read_csv(\"./raw_data/\"+\"publications_\"+str(hits)+\".csv\", names=pubs_df_cols, header=0)\n",
    "else:\n",
    "    pubs_df = pd.read_csv(\"./raw_data/\"+\"publications_\"+str(hits)+\".csv\", names=pubs_df_cols, header=0)"
   ]
  },
  {
   "cell_type": "code",
   "execution_count": 20,
   "id": "e6be3184",
   "metadata": {},
   "outputs": [],
   "source": [
    "if os.path.exists(\"./raw_data/\"+\"authors_\"+str(hits)+\".csv\") == False:\n",
    "    download_data(authors_url, \"authors_\"+str(hits)+\".csv\")\n",
    "    authors_df = pd.read_csv(\"./raw_data/\"+\"authors_\"+str(hits)+\".csv\", names=auth_df_cols, header=0, usecols=[i for i in range(0,17)])\n",
    "else:\n",
    "    authors_df = pd.read_csv(\"./raw_data/\"+\"authors_\"+str(hits)+\".csv\", names=auth_df_cols, header=0, usecols=[i for i in range(0,17)])"
   ]
  },
  {
   "cell_type": "code",
   "execution_count": 21,
   "id": "03f1bce8",
   "metadata": {},
   "outputs": [
    {
     "data": {
      "text/html": [
       "<div>\n",
       "<style scoped>\n",
       "    .dataframe tbody tr th:only-of-type {\n",
       "        vertical-align: middle;\n",
       "    }\n",
       "\n",
       "    .dataframe tbody tr th {\n",
       "        vertical-align: top;\n",
       "    }\n",
       "\n",
       "    .dataframe thead th {\n",
       "        text-align: right;\n",
       "    }\n",
       "</style>\n",
       "<table border=\"1\" class=\"dataframe\">\n",
       "  <thead>\n",
       "    <tr style=\"text-align: right;\">\n",
       "      <th></th>\n",
       "      <th>PID</th>\n",
       "      <th>AuthorityPid</th>\n",
       "      <th>DOI</th>\n",
       "      <th>FirstName</th>\n",
       "      <th>ISI</th>\n",
       "      <th>ISRN</th>\n",
       "      <th>LastName</th>\n",
       "      <th>LocalId</th>\n",
       "      <th>NBN</th>\n",
       "      <th>ORCID</th>\n",
       "      <th>OrganisationId</th>\n",
       "      <th>UncontrolledOrganisation</th>\n",
       "      <th>Position</th>\n",
       "      <th>PMID</th>\n",
       "      <th>ResearchGroup</th>\n",
       "      <th>Role</th>\n",
       "      <th>ScopusId</th>\n",
       "    </tr>\n",
       "  </thead>\n",
       "  <tbody>\n",
       "    <tr>\n",
       "      <th>0</th>\n",
       "      <td>1595685</td>\n",
       "      <td>NaN</td>\n",
       "      <td>10.1007/978-3-642-40683-6_1</td>\n",
       "      <td>Martin</td>\n",
       "      <td>NaN</td>\n",
       "      <td>NaN</td>\n",
       "      <td>Theobald</td>\n",
       "      <td>NaN</td>\n",
       "      <td>urn:nbn:se:oru:diva-94458</td>\n",
       "      <td>NaN</td>\n",
       "      <td>NaN</td>\n",
       "      <td>Universiteit Antwerpen, Antwerp, Belgium</td>\n",
       "      <td>1</td>\n",
       "      <td>NaN</td>\n",
       "      <td>NaN</td>\n",
       "      <td>aut</td>\n",
       "      <td>2-s2.0-84883289559</td>\n",
       "    </tr>\n",
       "    <tr>\n",
       "      <th>1</th>\n",
       "      <td>1595685</td>\n",
       "      <td>authority-person:77584</td>\n",
       "      <td>10.1007/978-3-642-40683-6_1</td>\n",
       "      <td>Luc</td>\n",
       "      <td>NaN</td>\n",
       "      <td>NaN</td>\n",
       "      <td>De Raedt</td>\n",
       "      <td>lcdt</td>\n",
       "      <td>urn:nbn:se:oru:diva-94458</td>\n",
       "      <td>0000-0002-6860-6303</td>\n",
       "      <td>NaN</td>\n",
       "      <td>Katholieke Universiteit Leuven, Heverlee, Belgium</td>\n",
       "      <td>2</td>\n",
       "      <td>NaN</td>\n",
       "      <td>NaN</td>\n",
       "      <td>aut</td>\n",
       "      <td>2-s2.0-84883289559</td>\n",
       "    </tr>\n",
       "    <tr>\n",
       "      <th>2</th>\n",
       "      <td>1595685</td>\n",
       "      <td>NaN</td>\n",
       "      <td>10.1007/978-3-642-40683-6_1</td>\n",
       "      <td>Maximilian</td>\n",
       "      <td>NaN</td>\n",
       "      <td>NaN</td>\n",
       "      <td>Dylla</td>\n",
       "      <td>NaN</td>\n",
       "      <td>urn:nbn:se:oru:diva-94458</td>\n",
       "      <td>NaN</td>\n",
       "      <td>NaN</td>\n",
       "      <td>Max Planck Institut Informatik, Saarbrücken, Germany</td>\n",
       "      <td>3</td>\n",
       "      <td>NaN</td>\n",
       "      <td>NaN</td>\n",
       "      <td>aut</td>\n",
       "      <td>2-s2.0-84883289559</td>\n",
       "    </tr>\n",
       "    <tr>\n",
       "      <th>3</th>\n",
       "      <td>1595685</td>\n",
       "      <td>NaN</td>\n",
       "      <td>10.1007/978-3-642-40683-6_1</td>\n",
       "      <td>Angelika</td>\n",
       "      <td>NaN</td>\n",
       "      <td>NaN</td>\n",
       "      <td>Kimmig</td>\n",
       "      <td>NaN</td>\n",
       "      <td>urn:nbn:se:oru:diva-94458</td>\n",
       "      <td>NaN</td>\n",
       "      <td>NaN</td>\n",
       "      <td>Katholieke Universiteit Leuven, Heverlee, Belgium</td>\n",
       "      <td>4</td>\n",
       "      <td>NaN</td>\n",
       "      <td>NaN</td>\n",
       "      <td>aut</td>\n",
       "      <td>2-s2.0-84883289559</td>\n",
       "    </tr>\n",
       "    <tr>\n",
       "      <th>4</th>\n",
       "      <td>1595685</td>\n",
       "      <td>NaN</td>\n",
       "      <td>10.1007/978-3-642-40683-6_1</td>\n",
       "      <td>Iris</td>\n",
       "      <td>NaN</td>\n",
       "      <td>NaN</td>\n",
       "      <td>Miliaraki</td>\n",
       "      <td>NaN</td>\n",
       "      <td>urn:nbn:se:oru:diva-94458</td>\n",
       "      <td>NaN</td>\n",
       "      <td>NaN</td>\n",
       "      <td>Max Planck Institut Informatik, Saarbrücken, Germany</td>\n",
       "      <td>5</td>\n",
       "      <td>NaN</td>\n",
       "      <td>NaN</td>\n",
       "      <td>aut</td>\n",
       "      <td>2-s2.0-84883289559</td>\n",
       "    </tr>\n",
       "  </tbody>\n",
       "</table>\n",
       "</div>"
      ],
      "text/plain": [
       "       PID            AuthorityPid                          DOI   FirstName  \\\n",
       "0  1595685                     NaN  10.1007/978-3-642-40683-6_1      Martin   \n",
       "1  1595685  authority-person:77584  10.1007/978-3-642-40683-6_1         Luc   \n",
       "2  1595685                     NaN  10.1007/978-3-642-40683-6_1  Maximilian   \n",
       "3  1595685                     NaN  10.1007/978-3-642-40683-6_1    Angelika   \n",
       "4  1595685                     NaN  10.1007/978-3-642-40683-6_1        Iris   \n",
       "\n",
       "   ISI  ISRN   LastName LocalId                        NBN  \\\n",
       "0  NaN   NaN   Theobald     NaN  urn:nbn:se:oru:diva-94458   \n",
       "1  NaN   NaN   De Raedt    lcdt  urn:nbn:se:oru:diva-94458   \n",
       "2  NaN   NaN      Dylla     NaN  urn:nbn:se:oru:diva-94458   \n",
       "3  NaN   NaN     Kimmig     NaN  urn:nbn:se:oru:diva-94458   \n",
       "4  NaN   NaN  Miliaraki     NaN  urn:nbn:se:oru:diva-94458   \n",
       "\n",
       "                 ORCID OrganisationId  \\\n",
       "0                  NaN            NaN   \n",
       "1  0000-0002-6860-6303            NaN   \n",
       "2                  NaN            NaN   \n",
       "3                  NaN            NaN   \n",
       "4                  NaN            NaN   \n",
       "\n",
       "                               UncontrolledOrganisation Position PMID  \\\n",
       "0              Universiteit Antwerpen, Antwerp, Belgium        1  NaN   \n",
       "1     Katholieke Universiteit Leuven, Heverlee, Belgium        2  NaN   \n",
       "2  Max Planck Institut Informatik, Saarbrücken, Germany        3  NaN   \n",
       "3     Katholieke Universiteit Leuven, Heverlee, Belgium        4  NaN   \n",
       "4  Max Planck Institut Informatik, Saarbrücken, Germany        5  NaN   \n",
       "\n",
       "  ResearchGroup Role            ScopusId  \n",
       "0           NaN  aut  2-s2.0-84883289559  \n",
       "1           NaN  aut  2-s2.0-84883289559  \n",
       "2           NaN  aut  2-s2.0-84883289559  \n",
       "3           NaN  aut  2-s2.0-84883289559  \n",
       "4           NaN  aut  2-s2.0-84883289559  "
      ]
     },
     "execution_count": 21,
     "metadata": {},
     "output_type": "execute_result"
    }
   ],
   "source": [
    "authors_df.head()"
   ]
  },
  {
   "cell_type": "code",
   "execution_count": 22,
   "id": "f0c04728",
   "metadata": {},
   "outputs": [
    {
     "data": {
      "text/plain": [
       "(111675, 17)"
      ]
     },
     "execution_count": 22,
     "metadata": {},
     "output_type": "execute_result"
    }
   ],
   "source": [
    "authors_df.shape"
   ]
  },
  {
   "cell_type": "code",
   "execution_count": 23,
   "id": "c2b4fbd2",
   "metadata": {},
   "outputs": [
    {
     "data": {
      "text/plain": [
       "(22649, 65)"
      ]
     },
     "execution_count": 23,
     "metadata": {},
     "output_type": "execute_result"
    }
   ],
   "source": [
    "pubs_df.shape"
   ]
  },
  {
   "cell_type": "code",
   "execution_count": 35,
   "id": "f0a77513",
   "metadata": {},
   "outputs": [
    {
     "data": {
      "text/plain": [
       "(17696, 65)"
      ]
     },
     "execution_count": 35,
     "metadata": {},
     "output_type": "execute_result"
    }
   ],
   "source": [
    "pubs_df[~pubs_df['Abstract'].isnull()].shape"
   ]
  },
  {
   "cell_type": "code",
   "execution_count": 58,
   "id": "1cfab06f",
   "metadata": {},
   "outputs": [],
   "source": [
    "abstracts_df = pubs_df[~pubs_df['Abstract'].isnull()][['PID','Abstract','PMID']].copy()"
   ]
  },
  {
   "cell_type": "code",
   "execution_count": 59,
   "id": "dcf0fef8",
   "metadata": {},
   "outputs": [
    {
     "data": {
      "text/plain": [
       "(17696, 3)"
      ]
     },
     "execution_count": 59,
     "metadata": {},
     "output_type": "execute_result"
    }
   ],
   "source": [
    "abstracts_df.shape "
   ]
  },
  {
   "cell_type": "code",
   "execution_count": 60,
   "id": "d35981be",
   "metadata": {},
   "outputs": [],
   "source": [
    "abstracts_df.to_csv('./raw_data/abstracts.csv', index=False)"
   ]
  },
  {
   "cell_type": "code",
   "execution_count": 62,
   "id": "ef74a9a4",
   "metadata": {},
   "outputs": [
    {
     "data": {
      "text/plain": [
       "(8626, 3)"
      ]
     },
     "execution_count": 62,
     "metadata": {},
     "output_type": "execute_result"
    }
   ],
   "source": [
    "abstracts_df[~abstracts_df['PMID'].isnull()].shape"
   ]
  },
  {
   "cell_type": "markdown",
   "id": "4445d1f9",
   "metadata": {},
   "source": [
    "# entities recognition"
   ]
  },
  {
   "cell_type": "code",
   "execution_count": 79,
   "id": "68093a3a",
   "metadata": {},
   "outputs": [],
   "source": [
    "def query_plain(text, url=\"http://bern2.korea.ac.kr/plain\", max_retries=3, retry_delay=2):\n",
    "    \"\"\"\n",
    "    Query the BERN2 biomedical entity recognition service with retry logic\n",
    "    \n",
    "    Args:\n",
    "        text (str): Text to annotate\n",
    "        url (str): BERN2 API endpoint URL (using HTTPS)\n",
    "        max_retries (int): Maximum number of retry attempts\n",
    "        retry_delay (int): Delay between retries in seconds\n",
    "        \n",
    "    Returns:\n",
    "        dict or str: JSON response or error message\n",
    "    \"\"\"\n",
    "    for attempt in range(max_retries):\n",
    "        try:\n",
    "            response = requests.post(\n",
    "                url, \n",
    "                json={'text': text},\n",
    "                timeout=30,\n",
    "                headers={'Content-Type': 'application/json'}\n",
    "            )\n",
    "            response.raise_for_status()  # Raise exception for 4XX/5XX responses\n",
    "            return response.json()\n",
    "        \n",
    "        except requests.exceptions.ConnectionError as e:\n",
    "            if attempt < max_retries - 1:\n",
    "                print(f\"Connection error occurred. Retrying in {retry_delay} seconds...\")\n",
    "                time.sleep(retry_delay)\n",
    "                retry_delay *= 2  # Exponential backoff\n",
    "            else:\n",
    "                return f\"Connection error after {max_retries} attempts: {str(e)}\"\n",
    "                \n",
    "        except requests.exceptions.RequestException as e:\n",
    "            return f\"Request error: {str(e)}\"\n"
   ]
  },
  {
   "cell_type": "code",
   "execution_count": 80,
   "id": "a7c82142",
   "metadata": {},
   "outputs": [
    {
     "data": {
      "text/plain": [
       "{'annotations': [{'id': ['NCBITaxon:9606'],\n",
       "   'is_neural_normalized': False,\n",
       "   'mention': 'patients',\n",
       "   'obj': 'species',\n",
       "   'prob': 0.9807732105255127,\n",
       "   'span': {'begin': 122, 'end': 130}},\n",
       "  {'id': ['NCBITaxon:9606'],\n",
       "   'is_neural_normalized': False,\n",
       "   'mention': 'patients',\n",
       "   'obj': 'species',\n",
       "   'prob': 0.9915779829025269,\n",
       "   'span': {'begin': 240, 'end': 248}},\n",
       "  {'id': ['NCBITaxon:9606'],\n",
       "   'is_neural_normalized': False,\n",
       "   'mention': 'patients',\n",
       "   'obj': 'species',\n",
       "   'prob': 0.9891461133956909,\n",
       "   'span': {'begin': 277, 'end': 285}},\n",
       "  {'id': ['NCBITaxon:9606'],\n",
       "   'is_neural_normalized': False,\n",
       "   'mention': 'patients',\n",
       "   'obj': 'species',\n",
       "   'prob': 0.9875727891921997,\n",
       "   'span': {'begin': 357, 'end': 365}},\n",
       "  {'id': ['CUI-less'],\n",
       "   'is_neural_normalized': False,\n",
       "   'mention': 'HRA',\n",
       "   'obj': 'DNA',\n",
       "   'prob': 0.5451631546020508,\n",
       "   'span': {'begin': 494, 'end': 497}},\n",
       "  {'id': ['NCBITaxon:9606'],\n",
       "   'is_neural_normalized': False,\n",
       "   'mention': 'patients',\n",
       "   'obj': 'species',\n",
       "   'prob': 0.9901172518730164,\n",
       "   'span': {'begin': 559, 'end': 567}},\n",
       "  {'id': ['mesh:D002248'],\n",
       "   'is_neural_normalized': False,\n",
       "   'mention': 'Co',\n",
       "   'obj': 'drug',\n",
       "   'prob': nan,\n",
       "   'span': {'begin': 586, 'end': 588}},\n",
       "  {'id': ['mesh:D002248'],\n",
       "   'is_neural_normalized': False,\n",
       "   'mention': 'Co',\n",
       "   'obj': 'drug',\n",
       "   'prob': nan,\n",
       "   'span': {'begin': 727, 'end': 729}},\n",
       "  {'id': ['NCBITaxon:9606'],\n",
       "   'is_neural_normalized': False,\n",
       "   'mention': 'patients',\n",
       "   'obj': 'species',\n",
       "   'prob': 0.9937148690223694,\n",
       "   'span': {'begin': 763, 'end': 771}}],\n",
       " 'text': 'Background: We analysed the long-term revision rate, clinical outcomes and metal ion concentrations in blood over time in patients who had undergone metal-on-metal Articular Surface Replacement (ASR) hip arthroplasty.Methods: A total of 38 patients (43 hips) were included: 24 patients (28 hips) underwent large-head total hip arthroplasty (XL THA), and 14 patients (15 hips) underwent hip resurfacing arthroplasty (HRA). The median follow-up time was 11 (range 7-12) years.Results: None of 15 HRA implants were revised. Nine of 28 XL THA implants (32%) in 8 patients were revised. The Co ion levels significantly increased in the XL THA group (p=0.009) over a median time period of 84 (25-97) months.Conclusion: The levels of Co ions in blood were higher in the patients who had undergone XL THA and increased significantly over time.',\n",
       " 'timestamp': 'Wed May 21 14:33:15 +0000 2025'}"
      ]
     },
     "execution_count": 80,
     "metadata": {},
     "output_type": "execute_result"
    }
   ],
   "source": [
    "#abstracts_df.loc[1][1]\n",
    "query_plain(abstracts_df.loc[1][1])"
   ]
  },
  {
   "cell_type": "code",
   "execution_count": 65,
   "id": "c8b397f0",
   "metadata": {},
   "outputs": [
    {
     "data": {
      "text/plain": [
       "'Background: We analysed the long-term revision rate, clinical outcomes and metal ion concentrations in blood over time in patients who had undergone metal-on-metal Articular Surface Replacement (ASR) hip arthroplasty.Methods: A total of 38 patients (43 hips) were included: 24 patients (28 hips) underwent large-head total hip arthroplasty (XL THA), and 14 patients (15 hips) underwent hip resurfacing arthroplasty (HRA). The median follow-up time was 11 (range 7-12) years.Results: None of 15 HRA implants were revised. Nine of 28 XL THA implants (32%) in 8 patients were revised. The Co ion levels significantly increased in the XL THA group (p=0.009) over a median time period of 84 (25-97) months.Conclusion: The levels of Co ions in blood were higher in the patients who had undergone XL THA and increased significantly over time.'"
      ]
     },
     "execution_count": 65,
     "metadata": {},
     "output_type": "execute_result"
    }
   ],
   "source": [
    "abstracts_df.loc[1][1]"
   ]
  },
  {
   "cell_type": "code",
   "execution_count": null,
   "id": "52dc4506",
   "metadata": {},
   "outputs": [],
   "source": []
  }
 ],
 "metadata": {
  "kernelspec": {
   "display_name": "py311_env",
   "language": "python",
   "name": "python3"
  },
  "language_info": {
   "codemirror_mode": {
    "name": "ipython",
    "version": 3
   },
   "file_extension": ".py",
   "mimetype": "text/x-python",
   "name": "python",
   "nbconvert_exporter": "python",
   "pygments_lexer": "ipython3",
   "version": "3.11.7"
  }
 },
 "nbformat": 4,
 "nbformat_minor": 5
}
